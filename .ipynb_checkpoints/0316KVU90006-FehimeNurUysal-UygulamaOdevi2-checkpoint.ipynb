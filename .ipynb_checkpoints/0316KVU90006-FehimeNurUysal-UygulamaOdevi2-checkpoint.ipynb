{
 "cells": [
  {
   "cell_type": "markdown",
   "metadata": {},
   "source": [
    "# TSV Dosya İşleme Uygulaması\n",
    " ##### <mark>Hazırlayan : Fehime Nur Uysal - 0316KVU90006"
   ]
  },
  {
   "cell_type": "markdown",
   "metadata": {},
   "source": [
    "## TSV Dosyasının Elde Edilmesi\n",
    "Ödev için önerilen dosyanın indirilmesi için okul mail adresi ile COSMIC web sayfasına üye olunmuştur. Data > Download sekmesinde bulunan \"All Mutations in Census Genes\" dosyası indirilmiştir."
   ]
  },
  {
   "cell_type": "markdown",
   "metadata": {},
   "source": [
    "## TSV Dosyası Okuma\n",
    "\n",
    "TSV dosyasını okurken python dilinde bulundan pandas kütüphanesinden yaralanılmıştır.\n",
    "Pandas kütüphanesinde bulunan data okuma fonksiyonuna ilk parametre olarak dosya verilmiştir ; ikinci parametrede dosyamızda yer alan verilerin birbirinden ayrılış şekili belirtilmiştir."
   ]
  },
  {
   "cell_type": "code",
   "execution_count": 1,
   "metadata": {
    "scrolled": false
   },
   "outputs": [
    {
     "data": {
      "text/html": [
       "<div>\n",
       "<style scoped>\n",
       "    .dataframe tbody tr th:only-of-type {\n",
       "        vertical-align: middle;\n",
       "    }\n",
       "\n",
       "    .dataframe tbody tr th {\n",
       "        vertical-align: top;\n",
       "    }\n",
       "\n",
       "    .dataframe thead th {\n",
       "        text-align: right;\n",
       "    }\n",
       "</style>\n",
       "<table border=\"1\" class=\"dataframe\">\n",
       "  <thead>\n",
       "    <tr style=\"text-align: right;\">\n",
       "      <th></th>\n",
       "      <th>Gene name</th>\n",
       "      <th>Accession Number</th>\n",
       "      <th>Gene CDS length</th>\n",
       "      <th>HGNC ID</th>\n",
       "      <th>Sample name</th>\n",
       "      <th>ID_sample</th>\n",
       "      <th>ID_tumour</th>\n",
       "      <th>Primary site</th>\n",
       "      <th>Site subtype 1</th>\n",
       "      <th>Site subtype 2</th>\n",
       "      <th>...</th>\n",
       "      <th>Resistance Mutation</th>\n",
       "      <th>FATHMM prediction</th>\n",
       "      <th>FATHMM score</th>\n",
       "      <th>Mutation somatic status</th>\n",
       "      <th>Pubmed_PMID</th>\n",
       "      <th>ID_STUDY</th>\n",
       "      <th>Sample Type</th>\n",
       "      <th>Tumour origin</th>\n",
       "      <th>Age</th>\n",
       "      <th>Tier</th>\n",
       "    </tr>\n",
       "  </thead>\n",
       "  <tbody>\n",
       "    <tr>\n",
       "      <td>0</td>\n",
       "      <td>LEPROTL1</td>\n",
       "      <td>ENST00000523116.5</td>\n",
       "      <td>1389</td>\n",
       "      <td>6555</td>\n",
       "      <td>ICGC_MB129</td>\n",
       "      <td>2197485</td>\n",
       "      <td>2065763</td>\n",
       "      <td>central_nervous_system</td>\n",
       "      <td>brain</td>\n",
       "      <td>NS</td>\n",
       "      <td>...</td>\n",
       "      <td>-</td>\n",
       "      <td>NEUTRAL</td>\n",
       "      <td>0.10162</td>\n",
       "      <td>Confirmed somatic variant</td>\n",
       "      <td>NaN</td>\n",
       "      <td>379.0</td>\n",
       "      <td>NS</td>\n",
       "      <td>NS</td>\n",
       "      <td>NaN</td>\n",
       "      <td>2</td>\n",
       "    </tr>\n",
       "    <tr>\n",
       "      <td>1</td>\n",
       "      <td>LEPROTL1</td>\n",
       "      <td>ENST00000523116.5</td>\n",
       "      <td>1389</td>\n",
       "      <td>6555</td>\n",
       "      <td>T_CCA_JP_1</td>\n",
       "      <td>2688117</td>\n",
       "      <td>2547099</td>\n",
       "      <td>biliary_tract</td>\n",
       "      <td>bile_duct</td>\n",
       "      <td>NS</td>\n",
       "      <td>...</td>\n",
       "      <td>-</td>\n",
       "      <td>NaN</td>\n",
       "      <td>NaN</td>\n",
       "      <td>Confirmed somatic variant</td>\n",
       "      <td>NaN</td>\n",
       "      <td>653.0</td>\n",
       "      <td>NS</td>\n",
       "      <td>primary</td>\n",
       "      <td>64.0</td>\n",
       "      <td>2</td>\n",
       "    </tr>\n",
       "    <tr>\n",
       "      <td>2</td>\n",
       "      <td>LEPROTL1</td>\n",
       "      <td>ENST00000523116.5</td>\n",
       "      <td>1389</td>\n",
       "      <td>6555</td>\n",
       "      <td>2014_Lung_sq_72_T</td>\n",
       "      <td>2744943</td>\n",
       "      <td>2603646</td>\n",
       "      <td>lung</td>\n",
       "      <td>NS</td>\n",
       "      <td>NS</td>\n",
       "      <td>...</td>\n",
       "      <td>-</td>\n",
       "      <td>NEUTRAL</td>\n",
       "      <td>0.03168</td>\n",
       "      <td>Confirmed somatic variant</td>\n",
       "      <td>NaN</td>\n",
       "      <td>583.0</td>\n",
       "      <td>NS</td>\n",
       "      <td>primary</td>\n",
       "      <td>64.0</td>\n",
       "      <td>2</td>\n",
       "    </tr>\n",
       "    <tr>\n",
       "      <td>3</td>\n",
       "      <td>LEPROTL1</td>\n",
       "      <td>ENST00000523116.5</td>\n",
       "      <td>1389</td>\n",
       "      <td>6555</td>\n",
       "      <td>PD11345a</td>\n",
       "      <td>1749320</td>\n",
       "      <td>1654161</td>\n",
       "      <td>breast</td>\n",
       "      <td>NS</td>\n",
       "      <td>NS</td>\n",
       "      <td>...</td>\n",
       "      <td>-</td>\n",
       "      <td>NEUTRAL</td>\n",
       "      <td>0.02533</td>\n",
       "      <td>Confirmed somatic variant</td>\n",
       "      <td>NaN</td>\n",
       "      <td>652.0</td>\n",
       "      <td>NS</td>\n",
       "      <td>NS</td>\n",
       "      <td>NaN</td>\n",
       "      <td>2</td>\n",
       "    </tr>\n",
       "    <tr>\n",
       "      <td>4</td>\n",
       "      <td>LEPROTL1</td>\n",
       "      <td>ENST00000523116.5</td>\n",
       "      <td>1389</td>\n",
       "      <td>6555</td>\n",
       "      <td>FM403T</td>\n",
       "      <td>1789238</td>\n",
       "      <td>1692642</td>\n",
       "      <td>endometrium</td>\n",
       "      <td>NS</td>\n",
       "      <td>NS</td>\n",
       "      <td>...</td>\n",
       "      <td>-</td>\n",
       "      <td>NaN</td>\n",
       "      <td>0.54399</td>\n",
       "      <td>Confirmed somatic variant</td>\n",
       "      <td>22923510.0</td>\n",
       "      <td>NaN</td>\n",
       "      <td>fresh/frozen - NOS</td>\n",
       "      <td>NS</td>\n",
       "      <td>NaN</td>\n",
       "      <td>2</td>\n",
       "    </tr>\n",
       "    <tr>\n",
       "      <td>...</td>\n",
       "      <td>...</td>\n",
       "      <td>...</td>\n",
       "      <td>...</td>\n",
       "      <td>...</td>\n",
       "      <td>...</td>\n",
       "      <td>...</td>\n",
       "      <td>...</td>\n",
       "      <td>...</td>\n",
       "      <td>...</td>\n",
       "      <td>...</td>\n",
       "      <td>...</td>\n",
       "      <td>...</td>\n",
       "      <td>...</td>\n",
       "      <td>...</td>\n",
       "      <td>...</td>\n",
       "      <td>...</td>\n",
       "      <td>...</td>\n",
       "      <td>...</td>\n",
       "      <td>...</td>\n",
       "      <td>...</td>\n",
       "      <td>...</td>\n",
       "    </tr>\n",
       "    <tr>\n",
       "      <td>1349936</td>\n",
       "      <td>SEPT6</td>\n",
       "      <td>ENST00000343984.5</td>\n",
       "      <td>2693</td>\n",
       "      <td>15848</td>\n",
       "      <td>PD5951a</td>\n",
       "      <td>1474086</td>\n",
       "      <td>1397785</td>\n",
       "      <td>breast</td>\n",
       "      <td>NS</td>\n",
       "      <td>NS</td>\n",
       "      <td>...</td>\n",
       "      <td>-</td>\n",
       "      <td>NEUTRAL</td>\n",
       "      <td>0.05197</td>\n",
       "      <td>Confirmed somatic variant</td>\n",
       "      <td>NaN</td>\n",
       "      <td>652.0</td>\n",
       "      <td>NS</td>\n",
       "      <td>primary</td>\n",
       "      <td>NaN</td>\n",
       "      <td>2</td>\n",
       "    </tr>\n",
       "    <tr>\n",
       "      <td>1349937</td>\n",
       "      <td>SEPT6</td>\n",
       "      <td>ENST00000343984.5</td>\n",
       "      <td>2693</td>\n",
       "      <td>15848</td>\n",
       "      <td>PD5956a</td>\n",
       "      <td>1474096</td>\n",
       "      <td>1397795</td>\n",
       "      <td>breast</td>\n",
       "      <td>NS</td>\n",
       "      <td>NS</td>\n",
       "      <td>...</td>\n",
       "      <td>-</td>\n",
       "      <td>NEUTRAL</td>\n",
       "      <td>0.00570</td>\n",
       "      <td>Confirmed somatic variant</td>\n",
       "      <td>NaN</td>\n",
       "      <td>652.0</td>\n",
       "      <td>NS</td>\n",
       "      <td>primary</td>\n",
       "      <td>NaN</td>\n",
       "      <td>2</td>\n",
       "    </tr>\n",
       "    <tr>\n",
       "      <td>1349938</td>\n",
       "      <td>SEPT6</td>\n",
       "      <td>ENST00000343984.5</td>\n",
       "      <td>2693</td>\n",
       "      <td>15848</td>\n",
       "      <td>C60</td>\n",
       "      <td>2340930</td>\n",
       "      <td>2205913</td>\n",
       "      <td>large_intestine</td>\n",
       "      <td>NS</td>\n",
       "      <td>NS</td>\n",
       "      <td>...</td>\n",
       "      <td>-</td>\n",
       "      <td>NEUTRAL</td>\n",
       "      <td>0.15107</td>\n",
       "      <td>Confirmed somatic variant</td>\n",
       "      <td>NaN</td>\n",
       "      <td>646.0</td>\n",
       "      <td>NS</td>\n",
       "      <td>primary</td>\n",
       "      <td>60.0</td>\n",
       "      <td>2</td>\n",
       "    </tr>\n",
       "    <tr>\n",
       "      <td>1349939</td>\n",
       "      <td>SEPT6</td>\n",
       "      <td>ENST00000343984.5</td>\n",
       "      <td>2693</td>\n",
       "      <td>15848</td>\n",
       "      <td>Thyroid-CN-WZ039T</td>\n",
       "      <td>2635100</td>\n",
       "      <td>2495496</td>\n",
       "      <td>thyroid</td>\n",
       "      <td>NS</td>\n",
       "      <td>NS</td>\n",
       "      <td>...</td>\n",
       "      <td>-</td>\n",
       "      <td>PATHOGENIC</td>\n",
       "      <td>0.98205</td>\n",
       "      <td>Confirmed somatic variant</td>\n",
       "      <td>NaN</td>\n",
       "      <td>676.0</td>\n",
       "      <td>NS</td>\n",
       "      <td>primary</td>\n",
       "      <td>55.0</td>\n",
       "      <td>2</td>\n",
       "    </tr>\n",
       "    <tr>\n",
       "      <td>1349940</td>\n",
       "      <td>SEPT6</td>\n",
       "      <td>ENST00000343984.5</td>\n",
       "      <td>2693</td>\n",
       "      <td>15848</td>\n",
       "      <td>W11T</td>\n",
       "      <td>2745045</td>\n",
       "      <td>2603748</td>\n",
       "      <td>thyroid</td>\n",
       "      <td>NS</td>\n",
       "      <td>NS</td>\n",
       "      <td>...</td>\n",
       "      <td>-</td>\n",
       "      <td>PATHOGENIC</td>\n",
       "      <td>0.94976</td>\n",
       "      <td>Confirmed somatic variant</td>\n",
       "      <td>NaN</td>\n",
       "      <td>676.0</td>\n",
       "      <td>NS</td>\n",
       "      <td>primary</td>\n",
       "      <td>30.0</td>\n",
       "      <td>2</td>\n",
       "    </tr>\n",
       "  </tbody>\n",
       "</table>\n",
       "<p>1349941 rows × 38 columns</p>\n",
       "</div>"
      ],
      "text/plain": [
       "        Gene name   Accession Number  Gene CDS length  HGNC ID  \\\n",
       "0        LEPROTL1  ENST00000523116.5             1389     6555   \n",
       "1        LEPROTL1  ENST00000523116.5             1389     6555   \n",
       "2        LEPROTL1  ENST00000523116.5             1389     6555   \n",
       "3        LEPROTL1  ENST00000523116.5             1389     6555   \n",
       "4        LEPROTL1  ENST00000523116.5             1389     6555   \n",
       "...           ...                ...              ...      ...   \n",
       "1349936     SEPT6  ENST00000343984.5             2693    15848   \n",
       "1349937     SEPT6  ENST00000343984.5             2693    15848   \n",
       "1349938     SEPT6  ENST00000343984.5             2693    15848   \n",
       "1349939     SEPT6  ENST00000343984.5             2693    15848   \n",
       "1349940     SEPT6  ENST00000343984.5             2693    15848   \n",
       "\n",
       "               Sample name  ID_sample  ID_tumour            Primary site  \\\n",
       "0               ICGC_MB129    2197485    2065763  central_nervous_system   \n",
       "1               T_CCA_JP_1    2688117    2547099           biliary_tract   \n",
       "2        2014_Lung_sq_72_T    2744943    2603646                    lung   \n",
       "3                 PD11345a    1749320    1654161                  breast   \n",
       "4                   FM403T    1789238    1692642             endometrium   \n",
       "...                    ...        ...        ...                     ...   \n",
       "1349936            PD5951a    1474086    1397785                  breast   \n",
       "1349937            PD5956a    1474096    1397795                  breast   \n",
       "1349938                C60    2340930    2205913         large_intestine   \n",
       "1349939  Thyroid-CN-WZ039T    2635100    2495496                 thyroid   \n",
       "1349940               W11T    2745045    2603748                 thyroid   \n",
       "\n",
       "        Site subtype 1 Site subtype 2  ... Resistance Mutation  \\\n",
       "0                brain             NS  ...                   -   \n",
       "1            bile_duct             NS  ...                   -   \n",
       "2                   NS             NS  ...                   -   \n",
       "3                   NS             NS  ...                   -   \n",
       "4                   NS             NS  ...                   -   \n",
       "...                ...            ...  ...                 ...   \n",
       "1349936             NS             NS  ...                   -   \n",
       "1349937             NS             NS  ...                   -   \n",
       "1349938             NS             NS  ...                   -   \n",
       "1349939             NS             NS  ...                   -   \n",
       "1349940             NS             NS  ...                   -   \n",
       "\n",
       "        FATHMM prediction FATHMM score    Mutation somatic status Pubmed_PMID  \\\n",
       "0                 NEUTRAL      0.10162  Confirmed somatic variant         NaN   \n",
       "1                     NaN          NaN  Confirmed somatic variant         NaN   \n",
       "2                 NEUTRAL      0.03168  Confirmed somatic variant         NaN   \n",
       "3                 NEUTRAL      0.02533  Confirmed somatic variant         NaN   \n",
       "4                     NaN      0.54399  Confirmed somatic variant  22923510.0   \n",
       "...                   ...          ...                        ...         ...   \n",
       "1349936           NEUTRAL      0.05197  Confirmed somatic variant         NaN   \n",
       "1349937           NEUTRAL      0.00570  Confirmed somatic variant         NaN   \n",
       "1349938           NEUTRAL      0.15107  Confirmed somatic variant         NaN   \n",
       "1349939        PATHOGENIC      0.98205  Confirmed somatic variant         NaN   \n",
       "1349940        PATHOGENIC      0.94976  Confirmed somatic variant         NaN   \n",
       "\n",
       "        ID_STUDY         Sample Type Tumour origin   Age Tier  \n",
       "0          379.0                  NS            NS   NaN    2  \n",
       "1          653.0                  NS       primary  64.0    2  \n",
       "2          583.0                  NS       primary  64.0    2  \n",
       "3          652.0                  NS            NS   NaN    2  \n",
       "4            NaN  fresh/frozen - NOS            NS   NaN    2  \n",
       "...          ...                 ...           ...   ...  ...  \n",
       "1349936    652.0                  NS       primary   NaN    2  \n",
       "1349937    652.0                  NS       primary   NaN    2  \n",
       "1349938    646.0                  NS       primary  60.0    2  \n",
       "1349939    676.0                  NS       primary  55.0    2  \n",
       "1349940    676.0                  NS       primary  30.0    2  \n",
       "\n",
       "[1349941 rows x 38 columns]"
      ]
     },
     "execution_count": 1,
     "metadata": {},
     "output_type": "execute_result"
    }
   ],
   "source": [
    "import pandas as pd\n",
    "dosya = pd.read_csv(\"CosmicMutantExportCensus.tsv\" , sep=\"\\t\")\n",
    "dosya"
   ]
  },
  {
   "cell_type": "markdown",
   "metadata": {},
   "source": [
    "## <mark>Ek Çalışma </mark> : Hastalar ve Mutasyon Sayıları"
   ]
  },
  {
   "cell_type": "code",
   "execution_count": 2,
   "metadata": {},
   "outputs": [
    {
     "data": {
      "text/plain": [
       "ID_sample\n",
       "683050     1\n",
       "683066     1\n",
       "683114     1\n",
       "683115     1\n",
       "683116     1\n",
       "          ..\n",
       "2777554    1\n",
       "2777570    1\n",
       "2777571    1\n",
       "2777737    1\n",
       "2777738    1\n",
       "Name: ID_sample, Length: 350951, dtype: int64"
      ]
     },
     "execution_count": 2,
     "metadata": {},
     "output_type": "execute_result"
    }
   ],
   "source": [
    "dosya.groupby(['ID_sample'])['ID_sample'].count()"
   ]
  },
  {
   "cell_type": "markdown",
   "metadata": {},
   "source": [
    "## <mark>Ek Çalışma </mark> : Hastalık ve Hasta Dağılımları"
   ]
  },
  {
   "cell_type": "markdown",
   "metadata": {},
   "source": [
    "#### Hastalık adı ve hastalığa ait toplam hasta sayısı listesi"
   ]
  },
  {
   "cell_type": "code",
   "execution_count": 4,
   "metadata": {},
   "outputs": [
    {
     "data": {
      "text/plain": [
       "Primary site\n",
       "NS                                             3423\n",
       "adrenal_gland                                  2404\n",
       "autonomic_ganglia                               897\n",
       "biliary_tract                                  2243\n",
       "bone                                           1650\n",
       "breast                                        12220\n",
       "central_nervous_system                        14625\n",
       "cervix                                          686\n",
       "endometrium                                    4282\n",
       "eye                                            1465\n",
       "fallopian_tube                                    4\n",
       "female_genital_tract_site_indeterminate           3\n",
       "gastrointestinal_tract_site_indeterminate       118\n",
       "genital_tract                                   213\n",
       "haematopoietic_and_lymphoid_tissue           109967\n",
       "kidney                                         5908\n",
       "large_intestine                               49433\n",
       "liver                                          4706\n",
       "lung                                          38989\n",
       "mediastinum                                       1\n",
       "meninges                                        886\n",
       "oesophagus                                     3444\n",
       "ovary                                          5436\n",
       "pancreas                                       8382\n",
       "paratesticular_tissues                            2\n",
       "parathyroid                                     277\n",
       "penis                                            54\n",
       "pericardium                                       2\n",
       "perineum                                          1\n",
       "peritoneum                                      276\n",
       "pituitary                                       846\n",
       "placenta                                          4\n",
       "pleura                                          635\n",
       "prostate                                       3186\n",
       "retroperitoneum                                   1\n",
       "salivary_gland                                  577\n",
       "skin                                          17518\n",
       "small_intestine                                 587\n",
       "soft_tissue                                   12404\n",
       "stomach                                        3739\n",
       "testis                                          303\n",
       "thymus                                          141\n",
       "thyroid                                       28899\n",
       "upper_aerodigestive_tract                      4487\n",
       "urinary_tract                                  5411\n",
       "vagina                                            8\n",
       "vulva                                           208\n",
       "Name: Primary site, dtype: int64"
      ]
     },
     "execution_count": 4,
     "metadata": {},
     "output_type": "execute_result"
    }
   ],
   "source": [
    "dosya = dosya.drop_duplicates(subset=['ID_sample'])\n",
    "dosya.groupby(['Primary site'])['Primary site'].count()"
   ]
  },
  {
   "cell_type": "markdown",
   "metadata": {},
   "source": [
    "## <mark> Ek Çalışma </mark> : Gen Mutasyon İsimleri ve Görülme Sayıları"
   ]
  },
  {
   "cell_type": "code",
   "execution_count": 5,
   "metadata": {},
   "outputs": [
    {
     "data": {
      "text/plain": [
       "GENOMIC_MUTATION_ID\n",
       "COSV50000015    2\n",
       "COSV50000017    1\n",
       "COSV50000030    1\n",
       "COSV50000035    1\n",
       "COSV50000050    6\n",
       "               ..\n",
       "COSV99082039    1\n",
       "COSV99082040    2\n",
       "COSV99082042    1\n",
       "COSV99082043    1\n",
       "COSV99082052    1\n",
       "Name: ID_sample, Length: 807695, dtype: int64"
      ]
     },
     "execution_count": 5,
     "metadata": {},
     "output_type": "execute_result"
    }
   ],
   "source": [
    "dosya = pd.read_csv(\"CosmicMutantExportCensus.tsv\" , sep=\"\\t\")\n",
    "dosya.groupby(['GENOMIC_MUTATION_ID'])['ID_sample'].count()"
   ]
  },
  {
   "cell_type": "markdown",
   "metadata": {},
   "source": [
    "## <mark>Ek Çalışma </mark> : Hastalıklar ve Yaş Ortalamaları"
   ]
  },
  {
   "cell_type": "code",
   "execution_count": 6,
   "metadata": {},
   "outputs": [
    {
     "data": {
      "text/plain": [
       "Primary site\n",
       "NS                                           54.207368\n",
       "adrenal_gland                                46.152684\n",
       "autonomic_ganglia                            11.957795\n",
       "biliary_tract                                61.866437\n",
       "bone                                         27.200281\n",
       "breast                                       55.716339\n",
       "central_nervous_system                       33.487787\n",
       "cervix                                       51.236111\n",
       "endometrium                                  60.839359\n",
       "eye                                          56.849128\n",
       "fallopian_tube                               68.200000\n",
       "female_genital_tract_site_indeterminate      62.727273\n",
       "gastrointestinal_tract_site_indeterminate    50.461538\n",
       "genital_tract                                19.681614\n",
       "haematopoietic_and_lymphoid_tissue           54.219853\n",
       "kidney                                       52.719926\n",
       "large_intestine                              65.373146\n",
       "liver                                        59.271207\n",
       "lung                                         63.461570\n",
       "mediastinum                                        NaN\n",
       "meninges                                     55.504613\n",
       "oesophagus                                   64.465903\n",
       "ovary                                        56.927172\n",
       "pancreas                                     63.182559\n",
       "paratesticular_tissues                       57.000000\n",
       "parathyroid                                  48.876543\n",
       "penis                                        67.333333\n",
       "pericardium                                        NaN\n",
       "perineum                                           NaN\n",
       "peritoneum                                   58.015015\n",
       "pituitary                                    34.467582\n",
       "placenta                                           NaN\n",
       "pleura                                       62.743804\n",
       "prostate                                     61.883953\n",
       "retroperitoneum                              63.000000\n",
       "salivary_gland                               57.688811\n",
       "skin                                         62.336100\n",
       "small_intestine                              61.158537\n",
       "soft_tissue                                  47.549136\n",
       "stomach                                      63.412976\n",
       "testis                                       37.095238\n",
       "thymus                                       54.742331\n",
       "thyroid                                      47.341251\n",
       "upper_aerodigestive_tract                    55.686262\n",
       "urinary_tract                                68.385649\n",
       "vagina                                             NaN\n",
       "vulva                                        72.670520\n",
       "Name: Age, dtype: float64"
      ]
     },
     "execution_count": 6,
     "metadata": {},
     "output_type": "execute_result"
    }
   ],
   "source": [
    "dosya = pd.read_csv(\"CosmicMutantExportCensus.tsv\" , sep=\"\\t\")\n",
    "dosya.drop_duplicates(subset=['ID_sample'])\n",
    "dosya.groupby(['Primary site'])['Age'].mean()"
   ]
  },
  {
   "cell_type": "markdown",
   "metadata": {},
   "source": [
    "## Liver Carcinoma Hastalığına Sahip Hastaların Belirlenmesi\n"
   ]
  },
  {
   "cell_type": "markdown",
   "metadata": {},
   "source": [
    "TSV dosyasında hastaya ait numunenin sınıflandırılmasını gösteren kolon \"primary site\" isimli kolondur. Bu kolona sorgu uygulamadan önce sorun teşkil edebilecek kolon isimlerindeki boşlukları '_' ile değiştiriyoruz. Bunu yaparken okunan dosyamızın kolon isimlerini bir for döngüsünde işliyoruz. Ardından pandas kütüphanesinin sağlamış olduğu query fonksiyonunu kullanarak liver carcinoma içeren kolonları arıyoruz. Duplicate verilerin süzülmesi için hazır olan drop_duplicates fonksiyonu ile süzme işlemini yaparak tekrarları kaldırıyoruz. Ardından görsel olarak karmaşıklığı önlemek için sadece hasta id kolonu olan ID_sample gösteriliyor."
   ]
  },
  {
   "cell_type": "code",
   "execution_count": 7,
   "metadata": {},
   "outputs": [
    {
     "data": {
      "text/html": [
       "<div>\n",
       "<style scoped>\n",
       "    .dataframe tbody tr th:only-of-type {\n",
       "        vertical-align: middle;\n",
       "    }\n",
       "\n",
       "    .dataframe tbody tr th {\n",
       "        vertical-align: top;\n",
       "    }\n",
       "\n",
       "    .dataframe thead th {\n",
       "        text-align: right;\n",
       "    }\n",
       "</style>\n",
       "<table border=\"1\" class=\"dataframe\">\n",
       "  <thead>\n",
       "    <tr style=\"text-align: right;\">\n",
       "      <th></th>\n",
       "      <th>ID_sample</th>\n",
       "    </tr>\n",
       "  </thead>\n",
       "  <tbody>\n",
       "    <tr>\n",
       "      <td>11</td>\n",
       "      <td>1918838</td>\n",
       "    </tr>\n",
       "    <tr>\n",
       "      <td>15</td>\n",
       "      <td>2194690</td>\n",
       "    </tr>\n",
       "    <tr>\n",
       "      <td>19</td>\n",
       "      <td>2194706</td>\n",
       "    </tr>\n",
       "    <tr>\n",
       "      <td>40</td>\n",
       "      <td>1918814</td>\n",
       "    </tr>\n",
       "    <tr>\n",
       "      <td>52</td>\n",
       "      <td>1652979</td>\n",
       "    </tr>\n",
       "    <tr>\n",
       "      <td>...</td>\n",
       "      <td>...</td>\n",
       "    </tr>\n",
       "    <tr>\n",
       "      <td>1325040</td>\n",
       "      <td>2390292</td>\n",
       "    </tr>\n",
       "    <tr>\n",
       "      <td>1330685</td>\n",
       "      <td>2364482</td>\n",
       "    </tr>\n",
       "    <tr>\n",
       "      <td>1331518</td>\n",
       "      <td>2364483</td>\n",
       "    </tr>\n",
       "    <tr>\n",
       "      <td>1339849</td>\n",
       "      <td>2726053</td>\n",
       "    </tr>\n",
       "    <tr>\n",
       "      <td>1343357</td>\n",
       "      <td>1764086</td>\n",
       "    </tr>\n",
       "  </tbody>\n",
       "</table>\n",
       "<p>3499 rows × 1 columns</p>\n",
       "</div>"
      ],
      "text/plain": [
       "         ID_sample\n",
       "11         1918838\n",
       "15         2194690\n",
       "19         2194706\n",
       "40         1918814\n",
       "52         1652979\n",
       "...            ...\n",
       "1325040    2390292\n",
       "1330685    2364482\n",
       "1331518    2364483\n",
       "1339849    2726053\n",
       "1343357    1764086\n",
       "\n",
       "[3499 rows x 1 columns]"
      ]
     },
     "execution_count": 7,
     "metadata": {},
     "output_type": "execute_result"
    }
   ],
   "source": [
    "dosya.columns = [column.replace(\" \", \"_\") for column in dosya.columns]\n",
    "dosya.query(\"Primary_site == 'liver'\" , inplace=True)\n",
    "dosya.query(\"Primary_histology == 'carcinoma'\" , inplace=True)\n",
    "liver = dosya.drop_duplicates(subset=['ID_sample'])\n",
    "liver[['ID_sample']]"
   ]
  },
  {
   "cell_type": "markdown",
   "metadata": {},
   "source": [
    "## <mark> Ek Çalışma </mark> : Liver Carcinoma Hastalığın Olan Kişiler ve Mutasyon Sayıları"
   ]
  },
  {
   "cell_type": "code",
   "execution_count": 8,
   "metadata": {},
   "outputs": [
    {
     "data": {
      "text/plain": [
       "ID_sample\n",
       "684195     1\n",
       "690746     1\n",
       "696439     1\n",
       "705028     1\n",
       "705030     1\n",
       "          ..\n",
       "2773361    1\n",
       "2773362    1\n",
       "2773363    1\n",
       "2773364    2\n",
       "2773365    1\n",
       "Name: ID_sample, Length: 3499, dtype: int64"
      ]
     },
     "execution_count": 8,
     "metadata": {},
     "output_type": "execute_result"
    }
   ],
   "source": [
    "dosya = pd.read_csv(\"CosmicMutantExportCensus.tsv\" , sep=\"\\t\")\n",
    "dosya.columns = [column.replace(\" \", \"_\") for column in dosya.columns]\n",
    "dosya.query(\"Primary_site == 'liver'\" , inplace=True)\n",
    "dosya.query(\"Primary_histology == 'carcinoma'\" , inplace=True)\n",
    "dosya.groupby(['ID_sample'])['ID_sample'].count()"
   ]
  },
  {
   "cell_type": "markdown",
   "metadata": {},
   "source": [
    "## <mark> Ek Çalışma </mark> : Liver Carcinoma Hastalığına Yakanlananlardan Maksimum ve Minimum Mutasyon Geçiren Hastaların Mutasyon Sayıları"
   ]
  },
  {
   "cell_type": "code",
   "execution_count": 9,
   "metadata": {},
   "outputs": [
    {
     "name": "stdout",
     "output_type": "stream",
     "text": [
      "En Yüksek Mutasyon Geçiren Liver Carcinoma Hastasının Mutasyon Sayısı : 2460\n",
      "En Düşük Mutasyon Geçiren Liver Carcinoma Hastasının Mutasyon Sayısı : 1\n"
     ]
    }
   ],
   "source": [
    "print(\"En Yüksek Mutasyon Geçiren Liver Carcinoma Hastasının Mutasyon Sayısı : \" + str(dosya.groupby(['ID_sample'])['ID_sample'].count().max()))\n",
    "print(\"En Düşük Mutasyon Geçiren Liver Carcinoma Hastasının Mutasyon Sayısı : \" + str(dosya.groupby(['ID_sample'])['ID_sample'].count().min()))"
   ]
  },
  {
   "cell_type": "markdown",
   "metadata": {},
   "source": [
    "## <mark> Ek Çalışma </mark> : Liver Carcinoma Hastalığında Görülen Gen Mutasyon Adları ve Görülme Sayıları"
   ]
  },
  {
   "cell_type": "code",
   "execution_count": 10,
   "metadata": {},
   "outputs": [
    {
     "data": {
      "text/plain": [
       "GENOMIC_MUTATION_ID\n",
       "COSV50000442    1\n",
       "COSV50000503    1\n",
       "COSV50000581    1\n",
       "COSV50000757    1\n",
       "COSV50000812    2\n",
       "               ..\n",
       "COSV99069321    1\n",
       "COSV99071059    1\n",
       "COSV99073000    1\n",
       "COSV99078436    1\n",
       "COSV99078455    1\n",
       "Name: ID_sample, Length: 94777, dtype: int64"
      ]
     },
     "execution_count": 10,
     "metadata": {},
     "output_type": "execute_result"
    }
   ],
   "source": [
    "dosya = pd.read_csv(\"CosmicMutantExportCensus.tsv\" , sep=\"\\t\")\n",
    "dosya.columns = [column.replace(\" \", \"_\") for column in dosya.columns]\n",
    "dosya.query(\"Primary_site == 'liver'\" , inplace=True)\n",
    "dosya.query(\"Primary_histology == 'carcinoma'\" , inplace=True)\n",
    "dosya.groupby(['GENOMIC_MUTATION_ID'])['ID_sample'].count()"
   ]
  },
  {
   "cell_type": "markdown",
   "metadata": {},
   "source": [
    "## <mark>Ek Çalışma </mark> Liver Carcinoma Hastalığına Sahip Hastaların Yaş İncelemesi"
   ]
  },
  {
   "cell_type": "code",
   "execution_count": 11,
   "metadata": {},
   "outputs": [
    {
     "name": "stdout",
     "output_type": "stream",
     "text": [
      "LIVER CARCINOMA YAŞ İNCELEMESİ\n",
      "-----------------\n",
      "En Yüksek Yaş : 90.0\n",
      "En Düşük Yaş : 1.5\n",
      "Ortalama Yaş : 58.07628596338274\n"
     ]
    }
   ],
   "source": [
    "print(\"LIVER CARCINOMA YAŞ İNCELEMESİ\")\n",
    "print(\"-----------------\")\n",
    "print(\"En Yüksek Yaş : \" + str(liver['Age'].max()))\n",
    "print(\"En Düşük Yaş : \" + str(liver['Age'].min()))\n",
    "print(\"Ortalama Yaş : \" + str(liver['Age'].mean()))"
   ]
  },
  {
   "cell_type": "markdown",
   "metadata": {},
   "source": [
    "## Liver Carcinoma Hastalığına Sahip Hastaların Mutasyonlu Genlerinin Listesi\n",
    "\n",
    "Öncelikle dosya üzerinde işlem yaptığımızdan dosyayı tekrar okuyup kolon adlarını düzenlenir. Ardından liver carcinoma hastaları süzüldü ve burada mutasyona uğrayan genlerin bulunduğun gene_name kolonu tekrarsız olarak listelenmek için duplicate olan gen adları süzüldü ve ardından gen adlarına ait kolon sadece çağrıldı."
   ]
  },
  {
   "cell_type": "code",
   "execution_count": 12,
   "metadata": {},
   "outputs": [
    {
     "data": {
      "text/html": [
       "<div>\n",
       "<style scoped>\n",
       "    .dataframe tbody tr th:only-of-type {\n",
       "        vertical-align: middle;\n",
       "    }\n",
       "\n",
       "    .dataframe tbody tr th {\n",
       "        vertical-align: top;\n",
       "    }\n",
       "\n",
       "    .dataframe thead th {\n",
       "        text-align: right;\n",
       "    }\n",
       "</style>\n",
       "<table border=\"1\" class=\"dataframe\">\n",
       "  <thead>\n",
       "    <tr style=\"text-align: right;\">\n",
       "      <th></th>\n",
       "      <th>Gene_name</th>\n",
       "      <th>GENOMIC_MUTATION_ID</th>\n",
       "    </tr>\n",
       "  </thead>\n",
       "  <tbody>\n",
       "    <tr>\n",
       "      <td>11</td>\n",
       "      <td>LEPROTL1</td>\n",
       "      <td>COSV58304815</td>\n",
       "    </tr>\n",
       "    <tr>\n",
       "      <td>15</td>\n",
       "      <td>LEPROTL1</td>\n",
       "      <td>COSV57643004</td>\n",
       "    </tr>\n",
       "    <tr>\n",
       "      <td>19</td>\n",
       "      <td>LEPROTL1</td>\n",
       "      <td>COSV58304746</td>\n",
       "    </tr>\n",
       "    <tr>\n",
       "      <td>40</td>\n",
       "      <td>LEPROTL1</td>\n",
       "      <td>COSV71525952</td>\n",
       "    </tr>\n",
       "    <tr>\n",
       "      <td>52</td>\n",
       "      <td>LEPROTL1</td>\n",
       "      <td>COSV58305228</td>\n",
       "    </tr>\n",
       "    <tr>\n",
       "      <td>...</td>\n",
       "      <td>...</td>\n",
       "      <td>...</td>\n",
       "    </tr>\n",
       "    <tr>\n",
       "      <td>1349906</td>\n",
       "      <td>SEPT6</td>\n",
       "      <td>COSV59718337</td>\n",
       "    </tr>\n",
       "    <tr>\n",
       "      <td>1349913</td>\n",
       "      <td>SEPT6</td>\n",
       "      <td>COSV59717689</td>\n",
       "    </tr>\n",
       "    <tr>\n",
       "      <td>1349914</td>\n",
       "      <td>SEPT6</td>\n",
       "      <td>COSV59717960</td>\n",
       "    </tr>\n",
       "    <tr>\n",
       "      <td>1349917</td>\n",
       "      <td>SEPT6</td>\n",
       "      <td>COSV59716903</td>\n",
       "    </tr>\n",
       "    <tr>\n",
       "      <td>1349930</td>\n",
       "      <td>SEPT6</td>\n",
       "      <td>COSV59713251</td>\n",
       "    </tr>\n",
       "  </tbody>\n",
       "</table>\n",
       "<p>94778 rows × 2 columns</p>\n",
       "</div>"
      ],
      "text/plain": [
       "        Gene_name GENOMIC_MUTATION_ID\n",
       "11       LEPROTL1        COSV58304815\n",
       "15       LEPROTL1        COSV57643004\n",
       "19       LEPROTL1        COSV58304746\n",
       "40       LEPROTL1        COSV71525952\n",
       "52       LEPROTL1        COSV58305228\n",
       "...           ...                 ...\n",
       "1349906     SEPT6        COSV59718337\n",
       "1349913     SEPT6        COSV59717689\n",
       "1349914     SEPT6        COSV59717960\n",
       "1349917     SEPT6        COSV59716903\n",
       "1349930     SEPT6        COSV59713251\n",
       "\n",
       "[94778 rows x 2 columns]"
      ]
     },
     "execution_count": 12,
     "metadata": {},
     "output_type": "execute_result"
    }
   ],
   "source": [
    "dosya = pd.read_csv(\"CosmicMutantExportCensus.tsv\" , sep=\"\\t\")\n",
    "dosya.columns = [column.replace(\" \", \"_\") for column in dosya.columns]\n",
    "dosya.query(\"Primary_site == 'liver' & Primary_histology == 'carcinoma'\" , inplace=True)\n",
    "mutasyonlu_gen_liver = dosya.drop_duplicates(subset=['GENOMIC_MUTATION_ID'])\n",
    "mutasyonlu_gen_listesi_liver = mutasyonlu_gen_liver[['Gene_name','GENOMIC_MUTATION_ID']]\n",
    "mutasyonlu_gen_listesi_liver"
   ]
  },
  {
   "cell_type": "markdown",
   "metadata": {},
   "source": [
    "## Skin Carcinoma Hastalığına Sahip Hastaların Belirlenmesi"
   ]
  },
  {
   "cell_type": "markdown",
   "metadata": {},
   "source": [
    "TSV dosyasında hastaya ait numunenin sınıflandırılmasını gösteren kolon \"primary site\" isimli kolondur. Bu kolona sorgu uygulamadan önce sorun teşkil edebilecek kolon isimlerindeki boşlukları '_' ile değiştiriyoruz. Bunu yaparken okunan dosyamızın kolon isimlerini bir for döngüsünde işliyoruz. Ardından pandas kütüphanesinin sağlamış olduğu query fonksiyonunu kullanarak skin içeren kolonları arıyoruz. Duplicate verilerin süzülmesi için hazır olan drop_duplicates fonksiyonu ile süzme işlemini yaparak tekrarları kaldırıyoruz. Ardından görsel olarak karmaşıklığı önlemek için sadece hasta id kolonu olan ID_sample gösteriliyor."
   ]
  },
  {
   "cell_type": "code",
   "execution_count": 13,
   "metadata": {},
   "outputs": [
    {
     "data": {
      "text/html": [
       "<div>\n",
       "<style scoped>\n",
       "    .dataframe tbody tr th:only-of-type {\n",
       "        vertical-align: middle;\n",
       "    }\n",
       "\n",
       "    .dataframe tbody tr th {\n",
       "        vertical-align: top;\n",
       "    }\n",
       "\n",
       "    .dataframe thead th {\n",
       "        text-align: right;\n",
       "    }\n",
       "</style>\n",
       "<table border=\"1\" class=\"dataframe\">\n",
       "  <thead>\n",
       "    <tr style=\"text-align: right;\">\n",
       "      <th></th>\n",
       "      <th>ID_sample</th>\n",
       "    </tr>\n",
       "  </thead>\n",
       "  <tbody>\n",
       "    <tr>\n",
       "      <td>10</td>\n",
       "      <td>2521295</td>\n",
       "    </tr>\n",
       "    <tr>\n",
       "      <td>78</td>\n",
       "      <td>2688645</td>\n",
       "    </tr>\n",
       "    <tr>\n",
       "      <td>228</td>\n",
       "      <td>2385650</td>\n",
       "    </tr>\n",
       "    <tr>\n",
       "      <td>271</td>\n",
       "      <td>2292475</td>\n",
       "    </tr>\n",
       "    <tr>\n",
       "      <td>289</td>\n",
       "      <td>2292492</td>\n",
       "    </tr>\n",
       "    <tr>\n",
       "      <td>...</td>\n",
       "      <td>...</td>\n",
       "    </tr>\n",
       "    <tr>\n",
       "      <td>1240050</td>\n",
       "      <td>2616120</td>\n",
       "    </tr>\n",
       "    <tr>\n",
       "      <td>1240134</td>\n",
       "      <td>2616100</td>\n",
       "    </tr>\n",
       "    <tr>\n",
       "      <td>1240236</td>\n",
       "      <td>2616096</td>\n",
       "    </tr>\n",
       "    <tr>\n",
       "      <td>1240281</td>\n",
       "      <td>2616110</td>\n",
       "    </tr>\n",
       "    <tr>\n",
       "      <td>1299453</td>\n",
       "      <td>1579757</td>\n",
       "    </tr>\n",
       "  </tbody>\n",
       "</table>\n",
       "<p>1436 rows × 1 columns</p>\n",
       "</div>"
      ],
      "text/plain": [
       "         ID_sample\n",
       "10         2521295\n",
       "78         2688645\n",
       "228        2385650\n",
       "271        2292475\n",
       "289        2292492\n",
       "...            ...\n",
       "1240050    2616120\n",
       "1240134    2616100\n",
       "1240236    2616096\n",
       "1240281    2616110\n",
       "1299453    1579757\n",
       "\n",
       "[1436 rows x 1 columns]"
      ]
     },
     "execution_count": 13,
     "metadata": {},
     "output_type": "execute_result"
    }
   ],
   "source": [
    "dosya = pd.read_csv(\"CosmicMutantExportCensus.tsv\" , sep=\"\\t\")\n",
    "dosya.columns = [column.replace(\" \", \"_\") for column in dosya.columns]\n",
    "dosya.query(\"Primary_site == 'skin'\" , inplace=True)\n",
    "dosya.query(\"Primary_histology == 'carcinoma'\" , inplace=True)\n",
    "skin = dosya.drop_duplicates(subset=['ID_sample'])\n",
    "skin[['ID_sample']]"
   ]
  },
  {
   "cell_type": "markdown",
   "metadata": {},
   "source": [
    "## <mark> Ek Çalışma </mark> : Skin Carcinoma Hastalığında Görülen Gen Mutasyon Adları ve Görülme Sayıları"
   ]
  },
  {
   "cell_type": "code",
   "execution_count": 14,
   "metadata": {},
   "outputs": [
    {
     "data": {
      "text/plain": [
       "GENOMIC_MUTATION_ID\n",
       "COSV50000253    1\n",
       "COSV50000845    1\n",
       "COSV50001192    1\n",
       "COSV50001466    1\n",
       "COSV50001973    1\n",
       "               ..\n",
       "COSV73831317    1\n",
       "COSV73852259    1\n",
       "COSV73852280    1\n",
       "COSV73947914    1\n",
       "COSV73947917    1\n",
       "Name: ID_sample, Length: 24533, dtype: int64"
      ]
     },
     "execution_count": 14,
     "metadata": {},
     "output_type": "execute_result"
    }
   ],
   "source": [
    "dosya = pd.read_csv(\"CosmicMutantExportCensus.tsv\" , sep=\"\\t\")\n",
    "dosya.columns = [column.replace(\" \", \"_\") for column in dosya.columns]\n",
    "dosya.query(\"Primary_site == 'skin'\" , inplace=True)\n",
    "dosya.query(\"Primary_histology == 'carcinoma'\" , inplace=True)\n",
    "dosya.groupby(['GENOMIC_MUTATION_ID'])['ID_sample'].count()"
   ]
  },
  {
   "cell_type": "markdown",
   "metadata": {},
   "source": [
    "## <mark> Ek Çalışma </mark> : Skin Carcinoma Hastalığın Olan Kişiler ve Mutasyon Sayıları"
   ]
  },
  {
   "cell_type": "code",
   "execution_count": 15,
   "metadata": {},
   "outputs": [
    {
     "data": {
      "text/plain": [
       "ID_sample\n",
       "694377      1\n",
       "704597      1\n",
       "704598      1\n",
       "704618      1\n",
       "704619      1\n",
       "           ..\n",
       "2727263    11\n",
       "2727268    38\n",
       "2727326    20\n",
       "2759124     1\n",
       "2759190     4\n",
       "Name: ID_sample, Length: 1436, dtype: int64"
      ]
     },
     "execution_count": 15,
     "metadata": {},
     "output_type": "execute_result"
    }
   ],
   "source": [
    "dosya = pd.read_csv(\"CosmicMutantExportCensus.tsv\" , sep=\"\\t\")\n",
    "dosya.columns = [column.replace(\" \", \"_\") for column in dosya.columns]\n",
    "dosya.query(\"Primary_site == 'skin'\" , inplace=True)\n",
    "dosya.query(\"Primary_histology == 'carcinoma'\" , inplace=True)\n",
    "dosya.groupby(['ID_sample'])['ID_sample'].count()"
   ]
  },
  {
   "cell_type": "markdown",
   "metadata": {},
   "source": [
    "## <mark> Ek Çalışma </mark> : Skin Carcinoma Hastalığına Yakanlananlardan Maksimum ve Minimum Mutasyon Geçiren Hastaların Mutasyon Sayıları"
   ]
  },
  {
   "cell_type": "code",
   "execution_count": 16,
   "metadata": {},
   "outputs": [
    {
     "name": "stdout",
     "output_type": "stream",
     "text": [
      "En Yüksek Mutasyon Geçiren Liver Carcinoma Hastasının Mutasyon Sayısı : 642\n",
      "En Düşük Mutasyon Geçiren Liver Carcinoma Hastasının Mutasyon Sayısı : 1\n"
     ]
    }
   ],
   "source": [
    "print(\"En Yüksek Mutasyon Geçiren Liver Carcinoma Hastasının Mutasyon Sayısı : \" + str(dosya.groupby(['ID_sample'])['ID_sample'].count().max()))\n",
    "print(\"En Düşük Mutasyon Geçiren Liver Carcinoma Hastasının Mutasyon Sayısı : \" + str(dosya.groupby(['ID_sample'])['ID_sample'].count().min()))"
   ]
  },
  {
   "cell_type": "markdown",
   "metadata": {},
   "source": [
    "## <mark>Ek Çalışma </mark> : Skin Carcinoma Hastalığına Sahip Hastaların Yaş İncelemesi"
   ]
  },
  {
   "cell_type": "code",
   "execution_count": 17,
   "metadata": {},
   "outputs": [
    {
     "name": "stdout",
     "output_type": "stream",
     "text": [
      "SKIN CARCINOMA YAŞ İNCELEMESİ\n",
      "-----------------\n",
      "En Yüksek Yaş : 100.0\n",
      "En Düşük Yaş : 9.0\n",
      "Ortalama Yaş : 65.36197440585009\n"
     ]
    }
   ],
   "source": [
    "print(\"SKIN CARCINOMA YAŞ İNCELEMESİ\")\n",
    "print(\"-----------------\")\n",
    "print(\"En Yüksek Yaş : \" + str(skin['Age'].max()))\n",
    "print(\"En Düşük Yaş : \" + str(skin['Age'].min()))\n",
    "print(\"Ortalama Yaş : \" + str(skin['Age'].mean()))"
   ]
  },
  {
   "cell_type": "markdown",
   "metadata": {},
   "source": [
    "## Skin Carcinoma Hastalığına Sahip Hastaların Mutasyonlu Genlerinin Listesi\n",
    "\n",
    "Öncelikle dosya üzerinde işlem yaptığımızdan dosyayı tekrar okuyup kolon adlarını düzenlenir. Ardından skin carcinoma hastaları süzüldü ve burada mutasyona uğrayan genlerin bulunduğun gene_name kolonu tekrarsız olarak listelenmek için duplicate olan gen adları süzüldü ve ardından gen adlarına ait kolon sadece çağrıldı."
   ]
  },
  {
   "cell_type": "code",
   "execution_count": 18,
   "metadata": {},
   "outputs": [
    {
     "data": {
      "text/html": [
       "<div>\n",
       "<style scoped>\n",
       "    .dataframe tbody tr th:only-of-type {\n",
       "        vertical-align: middle;\n",
       "    }\n",
       "\n",
       "    .dataframe tbody tr th {\n",
       "        vertical-align: top;\n",
       "    }\n",
       "\n",
       "    .dataframe thead th {\n",
       "        text-align: right;\n",
       "    }\n",
       "</style>\n",
       "<table border=\"1\" class=\"dataframe\">\n",
       "  <thead>\n",
       "    <tr style=\"text-align: right;\">\n",
       "      <th></th>\n",
       "      <th>Gene_name</th>\n",
       "      <th>GENOMIC_MUTATION_ID</th>\n",
       "    </tr>\n",
       "  </thead>\n",
       "  <tbody>\n",
       "    <tr>\n",
       "      <td>10</td>\n",
       "      <td>LEPROTL1</td>\n",
       "      <td>COSV57642770</td>\n",
       "    </tr>\n",
       "    <tr>\n",
       "      <td>78</td>\n",
       "      <td>LEPROTL1</td>\n",
       "      <td>COSV57642034</td>\n",
       "    </tr>\n",
       "    <tr>\n",
       "      <td>224</td>\n",
       "      <td>LEPROTL1</td>\n",
       "      <td>COSV58304378</td>\n",
       "    </tr>\n",
       "    <tr>\n",
       "      <td>228</td>\n",
       "      <td>LEPROTL1</td>\n",
       "      <td>COSV58304927</td>\n",
       "    </tr>\n",
       "    <tr>\n",
       "      <td>271</td>\n",
       "      <td>LEPROTL1</td>\n",
       "      <td>COSV58304282</td>\n",
       "    </tr>\n",
       "    <tr>\n",
       "      <td>...</td>\n",
       "      <td>...</td>\n",
       "      <td>...</td>\n",
       "    </tr>\n",
       "    <tr>\n",
       "      <td>1349566</td>\n",
       "      <td>SEPT6</td>\n",
       "      <td>COSV59715745</td>\n",
       "    </tr>\n",
       "    <tr>\n",
       "      <td>1349567</td>\n",
       "      <td>SEPT6</td>\n",
       "      <td>COSV59716561</td>\n",
       "    </tr>\n",
       "    <tr>\n",
       "      <td>1349616</td>\n",
       "      <td>SEPT6</td>\n",
       "      <td>COSV59715695</td>\n",
       "    </tr>\n",
       "    <tr>\n",
       "      <td>1349648</td>\n",
       "      <td>SEPT6</td>\n",
       "      <td>COSV59715673</td>\n",
       "    </tr>\n",
       "    <tr>\n",
       "      <td>1349667</td>\n",
       "      <td>SEPT6</td>\n",
       "      <td>COSV59713623</td>\n",
       "    </tr>\n",
       "  </tbody>\n",
       "</table>\n",
       "<p>24534 rows × 2 columns</p>\n",
       "</div>"
      ],
      "text/plain": [
       "        Gene_name GENOMIC_MUTATION_ID\n",
       "10       LEPROTL1        COSV57642770\n",
       "78       LEPROTL1        COSV57642034\n",
       "224      LEPROTL1        COSV58304378\n",
       "228      LEPROTL1        COSV58304927\n",
       "271      LEPROTL1        COSV58304282\n",
       "...           ...                 ...\n",
       "1349566     SEPT6        COSV59715745\n",
       "1349567     SEPT6        COSV59716561\n",
       "1349616     SEPT6        COSV59715695\n",
       "1349648     SEPT6        COSV59715673\n",
       "1349667     SEPT6        COSV59713623\n",
       "\n",
       "[24534 rows x 2 columns]"
      ]
     },
     "execution_count": 18,
     "metadata": {},
     "output_type": "execute_result"
    }
   ],
   "source": [
    "dosya = pd.read_csv(\"CosmicMutantExportCensus.tsv\" , sep=\"\\t\")\n",
    "dosya.columns = [column.replace(\" \", \"_\") for column in dosya.columns]\n",
    "dosya.query(\"Primary_site == 'skin'\" , inplace=True)\n",
    "dosya.query(\"Primary_histology == 'carcinoma'\" , inplace=True)\n",
    "mutasyonlu_gen_skin = dosya.drop_duplicates(subset=['GENOMIC_MUTATION_ID'])\n",
    "mutasyonlu_gen_listesi_skin = mutasyonlu_gen_skin[['Gene_name','GENOMIC_MUTATION_ID']]\n",
    "mutasyonlu_gen_listesi_skin"
   ]
  },
  {
   "cell_type": "markdown",
   "metadata": {},
   "source": [
    "## Liver Carcinoma ve Skin Carcinoma Hastalıklarında Ortak Yer Alan Genlerin Listesi\n",
    "\n",
    "Ortak genler bulunurken iki liste birleştirilip duplicate kolonu oluşturulup tekrar edenler çekilerek ortak kısımlar bulunmuştur."
   ]
  },
  {
   "cell_type": "code",
   "execution_count": null,
   "metadata": {},
   "outputs": [],
   "source": [
    "liver_dosya = pd.read_csv(\"CosmicMutantExportCensus.tsv\" , sep=\"\\t\")\n",
    "liver_dosya.columns = [column.replace(\" \", \"_\") for column in dosya.columns]\n",
    "liver_dosya.query(\"Primary_site == 'liver'\" , inplace=True)\n",
    "liver_dosya.query(\"Primary_histology == 'carcinoma'\" , inplace=True)\n",
    "liver = liver_dosya.drop_duplicates(subset=['Gene_name'])\n",
    "liver_listesi = liver[['Gene_name']]\n",
    "\n",
    "\n",
    "skin_dosya = pd.read_csv(\"CosmicMutantExportCensus.tsv\" , sep=\"\\t\")\n",
    "skin_dosya.columns = [column.replace(\" \", \"_\") for column in dosya.columns]\n",
    "skin_dosya.query(\"Primary_site == 'skin'\" , inplace=True)\n",
    "skin_dosya.query(\"Primary_histology == 'carcinoma'\" , inplace=True)\n",
    "skin = skin_dosya.drop_duplicates(subset=['Gene_name'])\n",
    "skin_listesi = skin[['Gene_name']]\n",
    "\n",
    "\n",
    "birlesim_liste = pd.concat([liver_listesi , skin_listesi])\n",
    "birlesim_liste[\"duplicated\"] = birlesim_liste.duplicated()\n",
    "birlesim_liste.query(\"duplicated == True\" , inplace=True)\n",
    "birlesim_liste[['Gene_name']]"
   ]
  },
  {
   "cell_type": "code",
   "execution_count": null,
   "metadata": {},
   "outputs": [],
   "source": []
  }
 ],
 "metadata": {
  "kernelspec": {
   "display_name": "Python 3",
   "language": "python",
   "name": "python3"
  },
  "language_info": {
   "codemirror_mode": {
    "name": "ipython",
    "version": 3
   },
   "file_extension": ".py",
   "mimetype": "text/x-python",
   "name": "python",
   "nbconvert_exporter": "python",
   "pygments_lexer": "ipython3",
   "version": "3.7.4"
  }
 },
 "nbformat": 4,
 "nbformat_minor": 2
}
